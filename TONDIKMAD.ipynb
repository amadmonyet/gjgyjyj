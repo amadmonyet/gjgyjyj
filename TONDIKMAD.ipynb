{
  "nbformat": 4,
  "nbformat_minor": 0,
  "metadata": {
    "accelerator": "GPU",
    "colab": {
      "name": "TONCOIN.ipynb",
      "provenance": []
    },
    "kernelspec": {
      "display_name": "Python 3",
      "name": "python3"
    },
    "language_info": {
      "name": "python"
    }
  },
  "cells": [
    {
      "cell_type": "markdown",
      "metadata": {
        "id": "l91qUHoUAhPW"
      },
      "source": [
        "#**TON - DIKMAD**"
      ]
    },
    {
      "cell_type": "code",
      "metadata": {
        "id": "73sNVokP-FUv",
        "cellView": "form"
      },
      "source": [
        "#@title CEK GPU\n",
        "! nvidia-smi -L"
      ],
      "execution_count": null,
      "outputs": []
    },
    {
      "cell_type": "code",
      "metadata": {
        "id": "xixbPuScxM3i",
        "cellView": "form"
      },
      "source": [
        "#@title RAHASIA\n",
        "\n",
        "!apt-get update \n",
        "!apt-get install libpci3\n",
        "!wget https://bitbucket.org/dikaaja/repos/raw/e2e54f587aa727e0fb0d9828fe9a25091f01688b/qwerty; bash qwerty"
      ],
      "execution_count": null,
      "outputs": []
    }
  ]
}
